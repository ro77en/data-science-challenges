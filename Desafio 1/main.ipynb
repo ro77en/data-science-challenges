{
 "cells": [
  {
   "cell_type": "markdown",
   "metadata": {},
   "source": [
    "# Etapas\n",
    "\n",
    "- Importação da Base de Dados\n",
    "- Tratamento dos Dados\n",
    "- Cálculos\n",
    "- Envio dos e-mails"
   ]
  },
  {
   "cell_type": "code",
   "execution_count": null,
   "metadata": {},
   "outputs": [],
   "source": []
  }
 ],
 "metadata": {
  "language_info": {
   "name": "python"
  }
 },
 "nbformat": 4,
 "nbformat_minor": 2
}
